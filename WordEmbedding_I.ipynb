{
  "nbformat": 4,
  "nbformat_minor": 0,
  "metadata": {
    "colab": {
      "provenance": []
    },
    "kernelspec": {
      "name": "python3",
      "display_name": "Python 3"
    },
    "language_info": {
      "name": "python"
    }
  },
  "cells": [
    {
      "cell_type": "markdown",
      "source": [
        "#### Libaries 📚"
      ],
      "metadata": {
        "id": "ceA28Cd9tiEO"
      }
    },
    {
      "cell_type": "code",
      "execution_count": 100,
      "metadata": {
        "id": "FOmbrGJfI6XA"
      },
      "outputs": [],
      "source": [
        "import gzip   # compression libary\n",
        "import gensim\n",
        "import logging\n",
        "import pandas as pd\n",
        "from gensim.utils import simple_preprocess\n",
        "from gensim.models.fasttext import FastText\n",
        "\n",
        "\n",
        "logging.basicConfig(format='%(asctime)s : %(levelname)s :')"
      ]
    },
    {
      "cell_type": "markdown",
      "source": [
        "### *Data*"
      ],
      "metadata": {
        "id": "BU8OfsnQJdur"
      }
    },
    {
      "cell_type": "code",
      "source": [
        "!git clone https://github.com/naoufal2807/Word-Embeddings.git"
      ],
      "metadata": {
        "colab": {
          "base_uri": "https://localhost:8080/"
        },
        "id": "IkSsajSPJMN3",
        "outputId": "669e10ea-14ea-4155-ea10-560fc277a2a7"
      },
      "execution_count": 43,
      "outputs": [
        {
          "output_type": "stream",
          "name": "stdout",
          "text": [
            "fatal: destination path 'Word-Embeddings' already exists and is not an empty directory.\n"
          ]
        }
      ]
    },
    {
      "cell_type": "code",
      "source": [
        "!cd Word-Embeddings/"
      ],
      "metadata": {
        "id": "X38d_EprMp_F"
      },
      "execution_count": 44,
      "outputs": []
    },
    {
      "cell_type": "code",
      "source": [
        "file_path = 'Word-Embeddings/text.txt'\n",
        "\n",
        "data = pd.read_csv(file_path, sep=']', header=None)\n",
        "\n"
      ],
      "metadata": {
        "id": "P2d_wMqkKUva"
      },
      "execution_count": 51,
      "outputs": []
    },
    {
      "cell_type": "code",
      "source": [
        "#drop the tag column\n",
        "\n",
        "data_file = data.drop(columns=[0]) # column index 0\n",
        "\n",
        "data_file[1]\n"
      ],
      "metadata": {
        "colab": {
          "base_uri": "https://localhost:8080/"
        },
        "collapsed": true,
        "id": "10vE-vcjNEfJ",
        "outputId": "3c2bb755-231b-4ead-9cf0-4f4fbd5a451f"
      },
      "execution_count": 58,
      "outputs": [
        {
          "output_type": "execute_result",
          "data": {
            "text/plain": [
              "0        During the period of falling in love, each ti...\n",
              "1              When I was involved in a traffic accident.\n",
              "2        When I was driving home after  several days o...\n",
              "3        When I lost the person who meant the most to me.\n",
              "4        The time I knocked a deer down - the sight of...\n",
              "                              ...                        \n",
              "7475     Two years back someone invited me to be the t...\n",
              "7476     I had taken the responsibility to do somethin...\n",
              "7477     I was at home and I heard a loud sound of spi...\n",
              "7478     I did not do the homework that the teacher ha...\n",
              "7479     I had shouted at my younger brother and he wa...\n",
              "Name: 1, Length: 7480, dtype: object"
            ]
          },
          "metadata": {},
          "execution_count": 58
        }
      ]
    },
    {
      "cell_type": "code",
      "source": [
        "## Building the corpus\n",
        "\n",
        "\n",
        "def tokenize_text(text):\n",
        "    return simple_preprocess(text)\n",
        "\n",
        "# Applying tokenization to all rows in 'text' column\n",
        "data_file['tokens'] = data_file[1].apply(tokenize_text)\n",
        "print(\"\\nDataFrame with Tokens:\")\n",
        "\n",
        "\n"
      ],
      "metadata": {
        "colab": {
          "base_uri": "https://localhost:8080/",
          "height": 458
        },
        "collapsed": true,
        "id": "YPmzjw0KNg_3",
        "outputId": "92954dc2-ff35-476c-f810-ced86425d25f"
      },
      "execution_count": 62,
      "outputs": [
        {
          "output_type": "stream",
          "name": "stdout",
          "text": [
            "\n",
            "DataFrame with Tokens:\n"
          ]
        },
        {
          "output_type": "execute_result",
          "data": {
            "text/plain": [
              "                                                      1  \\\n",
              "0      During the period of falling in love, each ti...   \n",
              "1            When I was involved in a traffic accident.   \n",
              "2      When I was driving home after  several days o...   \n",
              "3      When I lost the person who meant the most to me.   \n",
              "4      The time I knocked a deer down - the sight of...   \n",
              "...                                                 ...   \n",
              "7475   Two years back someone invited me to be the t...   \n",
              "7476   I had taken the responsibility to do somethin...   \n",
              "7477   I was at home and I heard a loud sound of spi...   \n",
              "7478   I did not do the homework that the teacher ha...   \n",
              "7479   I had shouted at my younger brother and he wa...   \n",
              "\n",
              "                                                 tokens  \n",
              "0     [during, the, period, of, falling, in, love, e...  \n",
              "1          [when, was, involved, in, traffic, accident]  \n",
              "2     [when, was, driving, home, after, several, day...  \n",
              "3     [when, lost, the, person, who, meant, the, mos...  \n",
              "4     [the, time, knocked, deer, down, the, sight, o...  \n",
              "...                                                 ...  \n",
              "7475  [two, years, back, someone, invited, me, to, b...  \n",
              "7476  [had, taken, the, responsibility, to, do, some...  \n",
              "7477  [was, at, home, and, heard, loud, sound, of, s...  \n",
              "7478  [did, not, do, the, homework, that, the, teach...  \n",
              "7479  [had, shouted, at, my, younger, brother, and, ...  \n",
              "\n",
              "[7480 rows x 2 columns]"
            ],
            "text/html": [
              "\n",
              "  <div id=\"df-785b79db-8223-4e25-8a57-21979686cace\" class=\"colab-df-container\">\n",
              "    <div>\n",
              "<style scoped>\n",
              "    .dataframe tbody tr th:only-of-type {\n",
              "        vertical-align: middle;\n",
              "    }\n",
              "\n",
              "    .dataframe tbody tr th {\n",
              "        vertical-align: top;\n",
              "    }\n",
              "\n",
              "    .dataframe thead th {\n",
              "        text-align: right;\n",
              "    }\n",
              "</style>\n",
              "<table border=\"1\" class=\"dataframe\">\n",
              "  <thead>\n",
              "    <tr style=\"text-align: right;\">\n",
              "      <th></th>\n",
              "      <th>1</th>\n",
              "      <th>tokens</th>\n",
              "    </tr>\n",
              "  </thead>\n",
              "  <tbody>\n",
              "    <tr>\n",
              "      <th>0</th>\n",
              "      <td>During the period of falling in love, each ti...</td>\n",
              "      <td>[during, the, period, of, falling, in, love, e...</td>\n",
              "    </tr>\n",
              "    <tr>\n",
              "      <th>1</th>\n",
              "      <td>When I was involved in a traffic accident.</td>\n",
              "      <td>[when, was, involved, in, traffic, accident]</td>\n",
              "    </tr>\n",
              "    <tr>\n",
              "      <th>2</th>\n",
              "      <td>When I was driving home after  several days o...</td>\n",
              "      <td>[when, was, driving, home, after, several, day...</td>\n",
              "    </tr>\n",
              "    <tr>\n",
              "      <th>3</th>\n",
              "      <td>When I lost the person who meant the most to me.</td>\n",
              "      <td>[when, lost, the, person, who, meant, the, mos...</td>\n",
              "    </tr>\n",
              "    <tr>\n",
              "      <th>4</th>\n",
              "      <td>The time I knocked a deer down - the sight of...</td>\n",
              "      <td>[the, time, knocked, deer, down, the, sight, o...</td>\n",
              "    </tr>\n",
              "    <tr>\n",
              "      <th>...</th>\n",
              "      <td>...</td>\n",
              "      <td>...</td>\n",
              "    </tr>\n",
              "    <tr>\n",
              "      <th>7475</th>\n",
              "      <td>Two years back someone invited me to be the t...</td>\n",
              "      <td>[two, years, back, someone, invited, me, to, b...</td>\n",
              "    </tr>\n",
              "    <tr>\n",
              "      <th>7476</th>\n",
              "      <td>I had taken the responsibility to do somethin...</td>\n",
              "      <td>[had, taken, the, responsibility, to, do, some...</td>\n",
              "    </tr>\n",
              "    <tr>\n",
              "      <th>7477</th>\n",
              "      <td>I was at home and I heard a loud sound of spi...</td>\n",
              "      <td>[was, at, home, and, heard, loud, sound, of, s...</td>\n",
              "    </tr>\n",
              "    <tr>\n",
              "      <th>7478</th>\n",
              "      <td>I did not do the homework that the teacher ha...</td>\n",
              "      <td>[did, not, do, the, homework, that, the, teach...</td>\n",
              "    </tr>\n",
              "    <tr>\n",
              "      <th>7479</th>\n",
              "      <td>I had shouted at my younger brother and he wa...</td>\n",
              "      <td>[had, shouted, at, my, younger, brother, and, ...</td>\n",
              "    </tr>\n",
              "  </tbody>\n",
              "</table>\n",
              "<p>7480 rows × 2 columns</p>\n",
              "</div>\n",
              "    <div class=\"colab-df-buttons\">\n",
              "\n",
              "  <div class=\"colab-df-container\">\n",
              "    <button class=\"colab-df-convert\" onclick=\"convertToInteractive('df-785b79db-8223-4e25-8a57-21979686cace')\"\n",
              "            title=\"Convert this dataframe to an interactive table.\"\n",
              "            style=\"display:none;\">\n",
              "\n",
              "  <svg xmlns=\"http://www.w3.org/2000/svg\" height=\"24px\" viewBox=\"0 -960 960 960\">\n",
              "    <path d=\"M120-120v-720h720v720H120Zm60-500h600v-160H180v160Zm220 220h160v-160H400v160Zm0 220h160v-160H400v160ZM180-400h160v-160H180v160Zm440 0h160v-160H620v160ZM180-180h160v-160H180v160Zm440 0h160v-160H620v160Z\"/>\n",
              "  </svg>\n",
              "    </button>\n",
              "\n",
              "  <style>\n",
              "    .colab-df-container {\n",
              "      display:flex;\n",
              "      gap: 12px;\n",
              "    }\n",
              "\n",
              "    .colab-df-convert {\n",
              "      background-color: #E8F0FE;\n",
              "      border: none;\n",
              "      border-radius: 50%;\n",
              "      cursor: pointer;\n",
              "      display: none;\n",
              "      fill: #1967D2;\n",
              "      height: 32px;\n",
              "      padding: 0 0 0 0;\n",
              "      width: 32px;\n",
              "    }\n",
              "\n",
              "    .colab-df-convert:hover {\n",
              "      background-color: #E2EBFA;\n",
              "      box-shadow: 0px 1px 2px rgba(60, 64, 67, 0.3), 0px 1px 3px 1px rgba(60, 64, 67, 0.15);\n",
              "      fill: #174EA6;\n",
              "    }\n",
              "\n",
              "    .colab-df-buttons div {\n",
              "      margin-bottom: 4px;\n",
              "    }\n",
              "\n",
              "    [theme=dark] .colab-df-convert {\n",
              "      background-color: #3B4455;\n",
              "      fill: #D2E3FC;\n",
              "    }\n",
              "\n",
              "    [theme=dark] .colab-df-convert:hover {\n",
              "      background-color: #434B5C;\n",
              "      box-shadow: 0px 1px 3px 1px rgba(0, 0, 0, 0.15);\n",
              "      filter: drop-shadow(0px 1px 2px rgba(0, 0, 0, 0.3));\n",
              "      fill: #FFFFFF;\n",
              "    }\n",
              "  </style>\n",
              "\n",
              "    <script>\n",
              "      const buttonEl =\n",
              "        document.querySelector('#df-785b79db-8223-4e25-8a57-21979686cace button.colab-df-convert');\n",
              "      buttonEl.style.display =\n",
              "        google.colab.kernel.accessAllowed ? 'block' : 'none';\n",
              "\n",
              "      async function convertToInteractive(key) {\n",
              "        const element = document.querySelector('#df-785b79db-8223-4e25-8a57-21979686cace');\n",
              "        const dataTable =\n",
              "          await google.colab.kernel.invokeFunction('convertToInteractive',\n",
              "                                                    [key], {});\n",
              "        if (!dataTable) return;\n",
              "\n",
              "        const docLinkHtml = 'Like what you see? Visit the ' +\n",
              "          '<a target=\"_blank\" href=https://colab.research.google.com/notebooks/data_table.ipynb>data table notebook</a>'\n",
              "          + ' to learn more about interactive tables.';\n",
              "        element.innerHTML = '';\n",
              "        dataTable['output_type'] = 'display_data';\n",
              "        await google.colab.output.renderOutput(dataTable, element);\n",
              "        const docLink = document.createElement('div');\n",
              "        docLink.innerHTML = docLinkHtml;\n",
              "        element.appendChild(docLink);\n",
              "      }\n",
              "    </script>\n",
              "  </div>\n",
              "\n",
              "\n",
              "<div id=\"df-981887a0-9258-4256-a7e7-77b672ce6baf\">\n",
              "  <button class=\"colab-df-quickchart\" onclick=\"quickchart('df-981887a0-9258-4256-a7e7-77b672ce6baf')\"\n",
              "            title=\"Suggest charts\"\n",
              "            style=\"display:none;\">\n",
              "\n",
              "<svg xmlns=\"http://www.w3.org/2000/svg\" height=\"24px\"viewBox=\"0 0 24 24\"\n",
              "     width=\"24px\">\n",
              "    <g>\n",
              "        <path d=\"M19 3H5c-1.1 0-2 .9-2 2v14c0 1.1.9 2 2 2h14c1.1 0 2-.9 2-2V5c0-1.1-.9-2-2-2zM9 17H7v-7h2v7zm4 0h-2V7h2v10zm4 0h-2v-4h2v4z\"/>\n",
              "    </g>\n",
              "</svg>\n",
              "  </button>\n",
              "\n",
              "<style>\n",
              "  .colab-df-quickchart {\n",
              "      --bg-color: #E8F0FE;\n",
              "      --fill-color: #1967D2;\n",
              "      --hover-bg-color: #E2EBFA;\n",
              "      --hover-fill-color: #174EA6;\n",
              "      --disabled-fill-color: #AAA;\n",
              "      --disabled-bg-color: #DDD;\n",
              "  }\n",
              "\n",
              "  [theme=dark] .colab-df-quickchart {\n",
              "      --bg-color: #3B4455;\n",
              "      --fill-color: #D2E3FC;\n",
              "      --hover-bg-color: #434B5C;\n",
              "      --hover-fill-color: #FFFFFF;\n",
              "      --disabled-bg-color: #3B4455;\n",
              "      --disabled-fill-color: #666;\n",
              "  }\n",
              "\n",
              "  .colab-df-quickchart {\n",
              "    background-color: var(--bg-color);\n",
              "    border: none;\n",
              "    border-radius: 50%;\n",
              "    cursor: pointer;\n",
              "    display: none;\n",
              "    fill: var(--fill-color);\n",
              "    height: 32px;\n",
              "    padding: 0;\n",
              "    width: 32px;\n",
              "  }\n",
              "\n",
              "  .colab-df-quickchart:hover {\n",
              "    background-color: var(--hover-bg-color);\n",
              "    box-shadow: 0 1px 2px rgba(60, 64, 67, 0.3), 0 1px 3px 1px rgba(60, 64, 67, 0.15);\n",
              "    fill: var(--button-hover-fill-color);\n",
              "  }\n",
              "\n",
              "  .colab-df-quickchart-complete:disabled,\n",
              "  .colab-df-quickchart-complete:disabled:hover {\n",
              "    background-color: var(--disabled-bg-color);\n",
              "    fill: var(--disabled-fill-color);\n",
              "    box-shadow: none;\n",
              "  }\n",
              "\n",
              "  .colab-df-spinner {\n",
              "    border: 2px solid var(--fill-color);\n",
              "    border-color: transparent;\n",
              "    border-bottom-color: var(--fill-color);\n",
              "    animation:\n",
              "      spin 1s steps(1) infinite;\n",
              "  }\n",
              "\n",
              "  @keyframes spin {\n",
              "    0% {\n",
              "      border-color: transparent;\n",
              "      border-bottom-color: var(--fill-color);\n",
              "      border-left-color: var(--fill-color);\n",
              "    }\n",
              "    20% {\n",
              "      border-color: transparent;\n",
              "      border-left-color: var(--fill-color);\n",
              "      border-top-color: var(--fill-color);\n",
              "    }\n",
              "    30% {\n",
              "      border-color: transparent;\n",
              "      border-left-color: var(--fill-color);\n",
              "      border-top-color: var(--fill-color);\n",
              "      border-right-color: var(--fill-color);\n",
              "    }\n",
              "    40% {\n",
              "      border-color: transparent;\n",
              "      border-right-color: var(--fill-color);\n",
              "      border-top-color: var(--fill-color);\n",
              "    }\n",
              "    60% {\n",
              "      border-color: transparent;\n",
              "      border-right-color: var(--fill-color);\n",
              "    }\n",
              "    80% {\n",
              "      border-color: transparent;\n",
              "      border-right-color: var(--fill-color);\n",
              "      border-bottom-color: var(--fill-color);\n",
              "    }\n",
              "    90% {\n",
              "      border-color: transparent;\n",
              "      border-bottom-color: var(--fill-color);\n",
              "    }\n",
              "  }\n",
              "</style>\n",
              "\n",
              "  <script>\n",
              "    async function quickchart(key) {\n",
              "      const quickchartButtonEl =\n",
              "        document.querySelector('#' + key + ' button');\n",
              "      quickchartButtonEl.disabled = true;  // To prevent multiple clicks.\n",
              "      quickchartButtonEl.classList.add('colab-df-spinner');\n",
              "      try {\n",
              "        const charts = await google.colab.kernel.invokeFunction(\n",
              "            'suggestCharts', [key], {});\n",
              "      } catch (error) {\n",
              "        console.error('Error during call to suggestCharts:', error);\n",
              "      }\n",
              "      quickchartButtonEl.classList.remove('colab-df-spinner');\n",
              "      quickchartButtonEl.classList.add('colab-df-quickchart-complete');\n",
              "    }\n",
              "    (() => {\n",
              "      let quickchartButtonEl =\n",
              "        document.querySelector('#df-981887a0-9258-4256-a7e7-77b672ce6baf button');\n",
              "      quickchartButtonEl.style.display =\n",
              "        google.colab.kernel.accessAllowed ? 'block' : 'none';\n",
              "    })();\n",
              "  </script>\n",
              "</div>\n",
              "\n",
              "  <div id=\"id_c17ed896-bbd4-45b4-a8cc-af58ff0435cf\">\n",
              "    <style>\n",
              "      .colab-df-generate {\n",
              "        background-color: #E8F0FE;\n",
              "        border: none;\n",
              "        border-radius: 50%;\n",
              "        cursor: pointer;\n",
              "        display: none;\n",
              "        fill: #1967D2;\n",
              "        height: 32px;\n",
              "        padding: 0 0 0 0;\n",
              "        width: 32px;\n",
              "      }\n",
              "\n",
              "      .colab-df-generate:hover {\n",
              "        background-color: #E2EBFA;\n",
              "        box-shadow: 0px 1px 2px rgba(60, 64, 67, 0.3), 0px 1px 3px 1px rgba(60, 64, 67, 0.15);\n",
              "        fill: #174EA6;\n",
              "      }\n",
              "\n",
              "      [theme=dark] .colab-df-generate {\n",
              "        background-color: #3B4455;\n",
              "        fill: #D2E3FC;\n",
              "      }\n",
              "\n",
              "      [theme=dark] .colab-df-generate:hover {\n",
              "        background-color: #434B5C;\n",
              "        box-shadow: 0px 1px 3px 1px rgba(0, 0, 0, 0.15);\n",
              "        filter: drop-shadow(0px 1px 2px rgba(0, 0, 0, 0.3));\n",
              "        fill: #FFFFFF;\n",
              "      }\n",
              "    </style>\n",
              "    <button class=\"colab-df-generate\" onclick=\"generateWithVariable('data_file')\"\n",
              "            title=\"Generate code using this dataframe.\"\n",
              "            style=\"display:none;\">\n",
              "\n",
              "  <svg xmlns=\"http://www.w3.org/2000/svg\" height=\"24px\"viewBox=\"0 0 24 24\"\n",
              "       width=\"24px\">\n",
              "    <path d=\"M7,19H8.4L18.45,9,17,7.55,7,17.6ZM5,21V16.75L18.45,3.32a2,2,0,0,1,2.83,0l1.4,1.43a1.91,1.91,0,0,1,.58,1.4,1.91,1.91,0,0,1-.58,1.4L9.25,21ZM18.45,9,17,7.55Zm-12,3A5.31,5.31,0,0,0,4.9,8.1,5.31,5.31,0,0,0,1,6.5,5.31,5.31,0,0,0,4.9,4.9,5.31,5.31,0,0,0,6.5,1,5.31,5.31,0,0,0,8.1,4.9,5.31,5.31,0,0,0,12,6.5,5.46,5.46,0,0,0,6.5,12Z\"/>\n",
              "  </svg>\n",
              "    </button>\n",
              "    <script>\n",
              "      (() => {\n",
              "      const buttonEl =\n",
              "        document.querySelector('#id_c17ed896-bbd4-45b4-a8cc-af58ff0435cf button.colab-df-generate');\n",
              "      buttonEl.style.display =\n",
              "        google.colab.kernel.accessAllowed ? 'block' : 'none';\n",
              "\n",
              "      buttonEl.onclick = () => {\n",
              "        google.colab.notebook.generateWithVariable('data_file');\n",
              "      }\n",
              "      })();\n",
              "    </script>\n",
              "  </div>\n",
              "\n",
              "    </div>\n",
              "  </div>\n"
            ],
            "application/vnd.google.colaboratory.intrinsic+json": {
              "type": "dataframe",
              "variable_name": "data_file",
              "summary": "{\n  \"name\": \"data_file\",\n  \"rows\": 7480,\n  \"fields\": [\n    {\n      \"column\": 1,\n      \"properties\": {\n        \"dtype\": \"string\",\n        \"num_unique_values\": 7415,\n        \"samples\": [\n          \" I felt ashamed when in a certain occasion I had to read a text and didn't stop stuttering.\",\n          \" The repression of rioting and non-rioting \\\"\\\"Blacks\\\"\\\" in South Africa by the police of that \\\"\\\"Democracy\\\"\\\".\",\n          \" Before I went to the urologist's I was afraid for several reasons: because it was for the first time, because the medical check-up might be painful, because of the uncertainty and because someone had informed me about it.\"\n        ],\n        \"semantic_type\": \"\",\n        \"description\": \"\"\n      }\n    },\n    {\n      \"column\": \"tokens\",\n      \"properties\": {\n        \"dtype\": \"object\",\n        \"semantic_type\": \"\",\n        \"description\": \"\"\n      }\n    }\n  ]\n}"
            }
          },
          "metadata": {},
          "execution_count": 62
        }
      ]
    },
    {
      "cell_type": "code",
      "source": [
        "# converting the tokens into list\n",
        "tokens = data_file['tokens'].to_list()\n"
      ],
      "metadata": {
        "colab": {
          "base_uri": "https://localhost:8080/"
        },
        "id": "-1dFVGuRZakd",
        "outputId": "70fb7434-92bc-46a4-afda-df502b0b1aca"
      },
      "execution_count": 67,
      "outputs": [
        {
          "output_type": "execute_result",
          "data": {
            "text/plain": [
              "['during',\n",
              " 'the',\n",
              " 'period',\n",
              " 'of',\n",
              " 'falling',\n",
              " 'in',\n",
              " 'love',\n",
              " 'each',\n",
              " 'time',\n",
              " 'that',\n",
              " 'we',\n",
              " 'met',\n",
              " 'and',\n",
              " 'especially',\n",
              " 'when',\n",
              " 'we',\n",
              " 'had',\n",
              " 'not',\n",
              " 'met',\n",
              " 'for',\n",
              " 'long',\n",
              " 'time']"
            ]
          },
          "metadata": {},
          "execution_count": 67
        }
      ]
    },
    {
      "cell_type": "code",
      "source": [
        "model_cbow = gensim.models.Word2Vec (tokens, vector_size= 150 , window = 5 , min_count=2 , workers= 15, sg=0) # sg : 0 -> for Bag-of-words\n",
        "model_cbow.train(tokens,total_examples=len(tokens),epochs=10)"
      ],
      "metadata": {
        "colab": {
          "base_uri": "https://localhost:8080/"
        },
        "id": "yQtNbCeHRdZQ",
        "outputId": "17a9518d-462a-4541-f27f-eae9db20a0fa"
      },
      "execution_count": 112,
      "outputs": [
        {
          "output_type": "stream",
          "name": "stderr",
          "text": [
            "WARNING:gensim.models.word2vec:Effective 'alpha' higher than previous training cycles\n"
          ]
        },
        {
          "output_type": "execute_result",
          "data": {
            "text/plain": [
              "(1019909, 1486170)"
            ]
          },
          "metadata": {},
          "execution_count": 112
        }
      ]
    },
    {
      "cell_type": "markdown",
      "source": [
        "### Test 1 : similarity\n",
        "\n"
      ],
      "metadata": {
        "id": "Krz4rj-PeBEp"
      }
    },
    {
      "cell_type": "code",
      "source": [
        "# looking for words similar to w1\n",
        "w1 = \"class\"\n",
        "model_cbow.wv.most_similar (positive=w1)"
      ],
      "metadata": {
        "colab": {
          "base_uri": "https://localhost:8080/"
        },
        "id": "q7jhyZfMdOTP",
        "outputId": "378ee776-b824-468b-f3d3-dc0ca872a608"
      },
      "execution_count": 113,
      "outputs": [
        {
          "output_type": "execute_result",
          "data": {
            "text/plain": [
              "[('mates', 0.7163353562355042),\n",
              " ('leader', 0.7153098583221436),\n",
              " ('college', 0.7054522037506104),\n",
              " ('list', 0.7047439217567444),\n",
              " ('student', 0.7029987573623657),\n",
              " ('term', 0.6980636119842529),\n",
              " ('institute', 0.6935988068580627),\n",
              " ('paper', 0.6932812333106995),\n",
              " ('library', 0.6862901449203491),\n",
              " ('english', 0.6850241422653198)]"
            ]
          },
          "metadata": {},
          "execution_count": 113
        }
      ]
    },
    {
      "cell_type": "code",
      "source": [
        "# similarity between two different words\n",
        "model_cbow.wv.similarity(w1=\"term\",w2=\"student\")"
      ],
      "metadata": {
        "colab": {
          "base_uri": "https://localhost:8080/"
        },
        "id": "rnE-9u4ydZbs",
        "outputId": "676c601f-a915-4afb-f71b-9ba71e4c3413"
      },
      "execution_count": 107,
      "outputs": [
        {
          "output_type": "execute_result",
          "data": {
            "text/plain": [
              "0.73035157"
            ]
          },
          "metadata": {},
          "execution_count": 107
        }
      ]
    },
    {
      "cell_type": "code",
      "source": [
        "# looking for words not similar to w2\n",
        "w2 = \"study\"\n",
        "model_cbow.wv.most_similar(negative=w2)\n"
      ],
      "metadata": {
        "colab": {
          "base_uri": "https://localhost:8080/"
        },
        "id": "_rQVTkW8edWx",
        "outputId": "c2a040e3-3ec8-43f7-a84b-fea664882b63"
      },
      "execution_count": 108,
      "outputs": [
        {
          "output_type": "execute_result",
          "data": {
            "text/plain": [
              "[('saw', 0.30866482853889465),\n",
              " ('old', 0.264975905418396),\n",
              " ('accident', 0.258465051651001),\n",
              " ('by', 0.24145564436912537),\n",
              " ('died', 0.18612894415855408),\n",
              " ('design', 0.1835113912820816),\n",
              " ('repressed', 0.1829172819852829),\n",
              " ('suddenly', 0.17492665350437164),\n",
              " ('lost', 0.14677149057388306),\n",
              " ('fell', 0.13247248530387878)]"
            ]
          },
          "metadata": {},
          "execution_count": 108
        }
      ]
    },
    {
      "cell_type": "code",
      "source": [
        "# finding the odd word that should be excluded from the list\n",
        "\n",
        "words = [\"old\", \"class\", \"study\",\"job\", \"fire\"]\n",
        "\n",
        "model_cbow.wv.doesnt_match(words)"
      ],
      "metadata": {
        "colab": {
          "base_uri": "https://localhost:8080/",
          "height": 35
        },
        "id": "DO7jLdbsfg75",
        "outputId": "8c43b008-f0bd-4b02-dd60-3590f3590e8d"
      },
      "execution_count": 109,
      "outputs": [
        {
          "output_type": "execute_result",
          "data": {
            "text/plain": [
              "'old'"
            ],
            "application/vnd.google.colaboratory.intrinsic+json": {
              "type": "string"
            }
          },
          "metadata": {},
          "execution_count": 109
        }
      ]
    },
    {
      "cell_type": "markdown",
      "source": [
        "### Test 2 :  FastText & Skipgram & Cbow"
      ],
      "metadata": {
        "id": "te18hkeIhD90"
      }
    },
    {
      "cell_type": "code",
      "source": [
        "# training the FastText model\n",
        "model_subword = FastText(tokens, vector_size=150, window=10, min_count=2, workers=10, min_n=3, max_n=6)  # instantiate\n",
        "%time model_subword.train(tokens,total_examples=len(tokens),epochs=10)"
      ],
      "metadata": {
        "colab": {
          "base_uri": "https://localhost:8080/"
        },
        "id": "KJ9cy4MXgXo7",
        "outputId": "cbdef4b9-c6bd-468d-857a-a6b34b3ff3b8"
      },
      "execution_count": 110,
      "outputs": [
        {
          "output_type": "stream",
          "name": "stderr",
          "text": [
            "WARNING:gensim.models.word2vec:Effective 'alpha' higher than previous training cycles\n"
          ]
        },
        {
          "output_type": "stream",
          "name": "stdout",
          "text": [
            "CPU times: user 31.2 s, sys: 110 ms, total: 31.3 s\n",
            "Wall time: 23.5 s\n"
          ]
        },
        {
          "output_type": "execute_result",
          "data": {
            "text/plain": [
              "(1020092, 1486170)"
            ]
          },
          "metadata": {},
          "execution_count": 110
        }
      ]
    },
    {
      "cell_type": "code",
      "source": [
        "# training the skipgram model\n",
        "\n",
        "model_skipgram = gensim.models.Word2Vec (tokens, vector_size= 150 , window = 5 , min_count=2 , workers= 15, sg=1)\n",
        "model_skipgram.train(tokens,total_examples=len(tokens),epochs=10)"
      ],
      "metadata": {
        "colab": {
          "base_uri": "https://localhost:8080/"
        },
        "id": "gZk43r0hkqG9",
        "outputId": "59bb534f-918c-4238-f29f-42f3a95e9324"
      },
      "execution_count": 114,
      "outputs": [
        {
          "output_type": "stream",
          "name": "stderr",
          "text": [
            "WARNING:gensim.models.word2vec:Effective 'alpha' higher than previous training cycles\n"
          ]
        },
        {
          "output_type": "execute_result",
          "data": {
            "text/plain": [
              "(1019766, 1486170)"
            ]
          },
          "metadata": {},
          "execution_count": 114
        }
      ]
    },
    {
      "cell_type": "code",
      "source": [
        "# subword model\n",
        "w4 = 'class'\n",
        "\n",
        "model_subword.wv.most_similar(positive=w4)"
      ],
      "metadata": {
        "colab": {
          "base_uri": "https://localhost:8080/"
        },
        "id": "Sg5_cB4ar21e",
        "outputId": "75e82cd7-7ab4-41f6-fb75-627467925c21"
      },
      "execution_count": 134,
      "outputs": [
        {
          "output_type": "execute_result",
          "data": {
            "text/plain": [
              "[('classes', 0.954501211643219),\n",
              " ('glass', 0.9263764023780823),\n",
              " ('tea', 0.880334734916687),\n",
              " ('mass', 0.8790790438652039),\n",
              " ('teach', 0.8603469729423523),\n",
              " ('student', 0.8547466993331909),\n",
              " ('classroom', 0.8485536575317383),\n",
              " ('students', 0.845920979976654),\n",
              " ('classmates', 0.8416107892990112),\n",
              " ('teams', 0.8412540555000305)]"
            ]
          },
          "metadata": {},
          "execution_count": 134
        }
      ]
    },
    {
      "cell_type": "code",
      "source": [
        "# skipgram\n",
        "w4 = 'class'\n",
        "\n",
        "model_skipgram.wv.most_similar(positive=w4)"
      ],
      "metadata": {
        "colab": {
          "base_uri": "https://localhost:8080/"
        },
        "id": "rb_mpuM-tOEv",
        "outputId": "6a3be524-eba7-498d-8e0b-b516dae2df1b"
      },
      "execution_count": 135,
      "outputs": [
        {
          "output_type": "execute_result",
          "data": {
            "text/plain": [
              "[('mates', 0.7204114198684692),\n",
              " ('lesson', 0.6717144846916199),\n",
              " ('composition', 0.6553208231925964),\n",
              " ('computer', 0.6436668038368225),\n",
              " ('mathematics', 0.6328681111335754),\n",
              " ('march', 0.6183663606643677),\n",
              " ('leader', 0.6178949475288391),\n",
              " ('duty', 0.6158401966094971),\n",
              " ('anatomy', 0.6066087484359741),\n",
              " ('copying', 0.6004791855812073)]"
            ]
          },
          "metadata": {},
          "execution_count": 135
        }
      ]
    }
  ]
}